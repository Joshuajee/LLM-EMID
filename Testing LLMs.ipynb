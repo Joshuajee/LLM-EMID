{
 "cells": [
  {
   "cell_type": "markdown",
   "id": "5cb88760-52be-48a2-9ef3-c87388a1a5d0",
   "metadata": {},
   "source": [
    "# Testing LLMs"
   ]
  },
  {
   "cell_type": "code",
   "execution_count": 2,
   "id": "0e007b68-12a3-46e8-ba67-4d5310b6749d",
   "metadata": {},
   "outputs": [],
   "source": [
    "# import ollama\n",
    "from ollama import generate"
   ]
  },
  {
   "cell_type": "markdown",
   "id": "dfdefc89-b6f5-4698-8fb3-5f11494b3936",
   "metadata": {},
   "source": [
    "## Regular command"
   ]
  },
  {
   "cell_type": "code",
   "execution_count": 4,
   "id": "b6c907b7-337e-4f56-ab69-c63c20f2e2d5",
   "metadata": {},
   "outputs": [
    {
     "name": "stdout",
     "output_type": "stream",
     "text": [
      "The sky appears blue to us because of a phenomenon called Rayleigh scattering, named after the British physicist Lord Rayleigh. He discovered that when sunlight enters Earth's atmosphere, it encounters tiny molecules of gases such as nitrogen and oxygen. These molecules scatter the light in all directions, but they scatter shorter (blue) wavelengths more than longer (red) wavelengths.\n",
      "\n",
      "This is because the smaller molecules are more effective at scattering the blue light, which has a higher frequency (or energy) compared to red light. As a result, the blue light is distributed throughout the atmosphere, giving the sky its blue color.\n",
      "\n",
      "Additionally, during the daytime, when the sun is overhead, the sky appears blue due to the combination of Rayleigh scattering and the fact that the Earth's atmosphere scatters shorter wavelengths more efficiently. This is known as the \"atmospheric effect.\"\n",
      "\n",
      "It's worth noting that the sky doesn't actually appear blue all the time. During sunrise and sunset, the light has to travel through more of the atmosphere, which scatters the shorter wavelengths even more, making the sky appear redder or orange. And at night, the sky can take on a deep shade of indigo or violet due to the presence of oxygen and nitrogen molecules in the atmosphere.\n",
      "\n",
      "Overall, the sky's blue color is a result of the way sunlight interacts with the tiny molecules in Earth's atmosphere, which scatter light in all directions, giving us a beautiful blue hue.\n"
     ]
    }
   ],
   "source": [
    "response = generate('llama3.2:1b', 'Why is the sky blue?')\n",
    "print(response['response'])"
   ]
  },
  {
   "cell_type": "markdown",
   "id": "f418de98-cc5b-41f7-bea1-3cacfc95a557",
   "metadata": {},
   "source": [
    "## Streaming response"
   ]
  },
  {
   "cell_type": "code",
   "execution_count": 6,
   "id": "9da3eb59-3369-4238-bbaf-315311340a38",
   "metadata": {},
   "outputs": [
    {
     "name": "stdout",
     "output_type": "stream",
     "text": [
      "Streaming response:\n",
      "The sky appears blue to us because of a phenomenon called Rayleigh scattering, named after the British physicist Lord Rayleigh. He discovered that shorter wavelengths of light, such as blue and violet, are scattered more than longer wavelengths, like red and orange, when they interact with the tiny molecules of gases in the Earth's atmosphere.\n",
      "\n",
      "Here's what happens:\n",
      "\n",
      "1. When sunlight enters the Earth's atmosphere, it consists of a spectrum of colors, including all the different wavelengths.\n",
      "2. The shorter wavelengths, like blue and violet, are scattered more than the longer wavelengths by the tiny molecules of gases such as nitrogen and oxygen.\n",
      "3. This scattering effect gives the sky its blue appearance, as the shorter wavelengths are dispersed in all directions, creating the sensation of a bright blue color.\n",
      "4. The human eye is better at detecting shorter wavelengths, so we see the sky as blue.\n",
      "\n",
      "The reason for this phenomenon is not just about aesthetics; it also helps regulate Earth's temperature and climate. When the sun's light scatters in different directions, some of it is absorbed by the atmosphere, warming up the planet. This process is known as Rayleigh scattering, which is responsible for the warm hues we see during sunrise and sunset.\n",
      "\n",
      "It's worth noting that the sky can appear red or orange during sunrise and sunset due to a phenomenon called Mie scattering, which occurs when shorter wavelengths are scattered more than longer wavelengths by particles in the atmosphere.\n"
     ]
    }
   ],
   "source": [
    "print(\"Streaming response:\")\n",
    "for chunk in generate('llama3.2:1b', 'Why is the sky blue?', stream=True):\n",
    "    print(chunk['response'], end='', flush=True)\n",
    "print()  # New line at the end"
   ]
  },
  {
   "cell_type": "code",
   "execution_count": 7,
   "id": "c8a399bf-95f5-4c8e-8119-97ef3f039ad9",
   "metadata": {},
   "outputs": [],
   "source": [
    "## Normal Chatbot with system prompt"
   ]
  },
  {
   "cell_type": "code",
   "execution_count": 8,
   "id": "06207998-70f9-4726-bc38-f4f12aab7b7d",
   "metadata": {},
   "outputs": [
    {
     "name": "stdout",
     "output_type": "stream",
     "text": [
      "Me hearty, me ship be... (pauses) ...me sailin' catamaran! She be fast and she be sleek, like a swashbucklin' swabbie on the high seas! Me name be \"The Black Swan\" and I be captained by a grizzled old sea dog named Captain Blackbeak. We have a crew of scurvy dogs who be loyal as lions, even if they do be a mite... unsavory at times! (winks)\n"
     ]
    }
   ],
   "source": [
    "from ollama import chat\n",
    "\n",
    "# Define a system prompt\n",
    "system_prompt = \"You speaks and sounds like a pirate with short sentences.\"\n",
    "# Chat with a system prompt\n",
    "response = chat('llama3.2:1b', \n",
    "                messages=[\n",
    "                    {'role': 'system', 'content': system_prompt},\n",
    "                    {'role': 'user', 'content': 'Tell me about your boat.'}\n",
    "                ])\n",
    "print(response.message.content)"
   ]
  },
  {
   "cell_type": "markdown",
   "id": "e26f05aa-1e5b-4d0d-b2e5-a6f5207c512d",
   "metadata": {},
   "source": [
    "## Chatbot with conversational history and context"
   ]
  },
  {
   "cell_type": "code",
   "execution_count": null,
   "id": "6a8bc1b0-e8e9-4ee3-99b2-5448ec02f98d",
   "metadata": {},
   "outputs": [],
   "source": [
    "from ollama import chat\n",
    "\n",
    "# Initialize an empty message history\n",
    "messages = []\n",
    "while True:\n",
    "    user_input = input('Chat with history: ')\n",
    "    if user_input.lower() == 'exit':\n",
    "        break\n",
    "    # Get streaming response while maintaining conversation history\n",
    "    response_content = \"\"\n",
    "    for chunk in chat(\n",
    "        'llama3.2:1b',\n",
    "        messages=messages + [\n",
    "            {'role': 'system', 'content': 'You are a helpful assistant. You only give a short sentence by answer.'},\n",
    "            {'role': 'user', 'content': user_input},\n",
    "        ],\n",
    "        stream=True\n",
    "    ):\n",
    "        if chunk.message:\n",
    "            response_chunk = chunk.message.content\n",
    "            print(response_chunk, end='', flush=True)\n",
    "            response_content += response_chunk\n",
    "    # Add the exchange to the conversation history\n",
    "    messages += [\n",
    "        {'role': 'user', 'content': user_input},\n",
    "        {'role': 'assistant', 'content': response_content},\n",
    "    ]\n",
    "    print('\\n')  # Add space after response"
   ]
  },
  {
   "cell_type": "markdown",
   "id": "52d60932-7fc6-4223-a035-059497fa9878",
   "metadata": {},
   "source": [
    "## Testing StarCoder V2"
   ]
  },
  {
   "cell_type": "code",
   "execution_count": null,
   "id": "52fb2a15-bbb4-4a3e-aa3f-7cf35dc1b504",
   "metadata": {},
   "outputs": [],
   "source": [
    "# 7b parameter\n",
    "star_coder_stream = chat(\n",
    "    'starcoder2:7b', \n",
    "    [\n",
    "          {'role': 'system', 'content': 'You are an helpful software engineer. Give code examples'},\n",
    "          {'role': 'user', 'content':    'Write a simple solidity smart contract'}\n",
    "    ],\n",
    "    stream=True,\n",
    ")\n",
    "for chunk in star_coder_stream:\n",
    "  print(chunk['message']['content'], end='', flush=True)"
   ]
  },
  {
   "cell_type": "markdown",
   "id": "9d0aadfe-2f42-468c-b16d-c51fef9bf2b8",
   "metadata": {},
   "source": [
    "## Testing OpenAI with ollama"
   ]
  },
  {
   "cell_type": "code",
   "execution_count": null,
   "id": "cf528dd4-ecbf-4d18-b559-d3946a5ea3c0",
   "metadata": {},
   "outputs": [],
   "source": [
    "from openai import OpenAI\n",
    "\n",
    "client = OpenAI(\n",
    "    base_url = 'http://localhost:11434/v1',\n",
    "    api_key='ollama', # required, but unused\n",
    ")\n",
    "\n",
    "response = client.chat.completions.create(\n",
    "  model=\"llama3.2:1b\",\n",
    "  messages=[\n",
    "    {\"role\": \"system\", \"content\": \"You are a helpful assistant.\"},\n",
    "    {\"role\": \"user\", \"content\": \"Who won the world series in 2020?\"},\n",
    "    {\"role\": \"assistant\", \"content\": \"The LA Dodgers won in 2020.\"},\n",
    "    {\"role\": \"user\", \"content\": \"Where was it played?\"}\n",
    "  ]\n",
    ")\n",
    "print(response.choices[0].message.content)"
   ]
  },
  {
   "cell_type": "code",
   "execution_count": null,
   "id": "b3d6bf71-8290-44c2-9dd9-76ff2d3c4391",
   "metadata": {},
   "outputs": [],
   "source": []
  }
 ],
 "metadata": {
  "kernelspec": {
   "display_name": "venv",
   "language": "python",
   "name": "venv"
  },
  "language_info": {
   "codemirror_mode": {
    "name": "ipython",
    "version": 3
   },
   "file_extension": ".py",
   "mimetype": "text/x-python",
   "name": "python",
   "nbconvert_exporter": "python",
   "pygments_lexer": "ipython3",
   "version": "3.12.4"
  }
 },
 "nbformat": 4,
 "nbformat_minor": 5
}
